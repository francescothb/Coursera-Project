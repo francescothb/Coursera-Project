{
  "nbformat": 4,
  "nbformat_minor": 0,
  "metadata": {
    "colab": {
      "provenance": []
    },
    "kernelspec": {
      "name": "python3",
      "display_name": "Python 3"
    },
    "language_info": {
      "name": "python"
    }
  },
  "cells": [
    {
      "cell_type": "markdown",
      "source": [
        "Notebook"
      ],
      "metadata": {
        "id": "8ejs6yg3APbE"
      }
    },
    {
      "cell_type": "markdown",
      "source": [
        "In this notebook, Data Science Tools and Ecosystem are summarized."
      ],
      "metadata": {
        "id": "nH3jxOBJCJbE"
      }
    },
    {
      "cell_type": "markdown",
      "source": [
        "**Objectives:**\n",
        "\n",
        "\n",
        "*   Julia\n",
        "*   Python\n",
        "*   R\n",
        "*   SQL\n",
        "*   Javascript\n",
        "\n",
        "\n",
        "\n",
        "\n",
        "\n",
        "\n"
      ],
      "metadata": {
        "id": "3CoOzJtoK6Z1"
      }
    },
    {
      "cell_type": "markdown",
      "source": [
        "Some of the popular languages that Data Scientists use are:\n",
        "a. Python\n",
        "b. R\n",
        "c. SQL"
      ],
      "metadata": {
        "id": "WABKNQvZDEJP"
      }
    },
    {
      "cell_type": "markdown",
      "source": [
        "Some of the commonly used libraries used by Data Scientists include:\n",
        "a. Pandas\n",
        "b. Matplotlib\n",
        "c. Numpy"
      ],
      "metadata": {
        "id": "sOVa5OhsDgv4"
      }
    },
    {
      "cell_type": "markdown",
      "source": [
        "\\"
      ],
      "metadata": {
        "id": "PlsKP1f6D3VZ"
      }
    },
    {
      "cell_type": "markdown",
      "source": [
        "\\begin{array}{|c|c|} \\hline\n",
        "Data Science Tools \\\\ \\hline\n",
        "Keras \\\\\n",
        "TensorFlow \\\\\n",
        "ApacheSpark \\\\ \\hline\n",
        "\\end{array}"
      ],
      "metadata": {
        "id": "Ntap2XhMFrnu"
      }
    },
    {
      "cell_type": "markdown",
      "source": [
        "### Below are a few examples of evaluating arithmetic expressions in Python"
      ],
      "metadata": {
        "id": "sZC7oZxsFrlB"
      }
    },
    {
      "cell_type": "code",
      "source": [
        "#This a simple arithmetic expression to mutiply then add integers\n",
        "(3*4)+5"
      ],
      "metadata": {
        "colab": {
          "base_uri": "https://localhost:8080/"
        },
        "id": "iON633AsHytB",
        "outputId": "506a7ad7-ea89-44ce-b239-e6cb47460575"
      },
      "execution_count": null,
      "outputs": [
        {
          "output_type": "execute_result",
          "data": {
            "text/plain": [
              "17"
            ]
          },
          "metadata": {},
          "execution_count": 2
        }
      ]
    },
    {
      "cell_type": "code",
      "source": [
        " #This will convert 200 minutes to hours by diving by 60\n",
        " #200 minutes =\n",
        " 200/60 #hours"
      ],
      "metadata": {
        "colab": {
          "base_uri": "https://localhost:8080/"
        },
        "id": "NuGRXuI8KKgB",
        "outputId": "6c2dd8f1-f432-4435-9d26-e3c7cda5c77a"
      },
      "execution_count": null,
      "outputs": [
        {
          "output_type": "execute_result",
          "data": {
            "text/plain": [
              "3.3333333333333335"
            ]
          },
          "metadata": {},
          "execution_count": 4
        }
      ]
    },
    {
      "cell_type": "markdown",
      "source": [
        "#Author\n",
        "## Francesco Theodore Budiman"
      ],
      "metadata": {
        "id": "vUVf5i3AHq53"
      }
    }
  ]
}
